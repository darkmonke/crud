{
 "cells": [
  {
   "cell_type": "markdown",
   "id": "fcc9757e-ed3b-4ed3-b9da-3284aa9fbd37",
   "metadata": {},
   "source": [
    "# Django 복습"
   ]
  },
  {
   "cell_type": "markdown",
   "id": "bb5275a8-eeea-4633-b880-e153f8d4597a",
   "metadata": {},
   "source": [
    "## CRUD란?\n",
    "데이터베이스 작업의 기본적인 네 가지 기능을 의미하는 용어(create, read, update, delete)"
   ]
  },
  {
   "cell_type": "markdown",
   "id": "b2379879-ad07-4ed4-a6df-d903efcabb5d",
   "metadata": {},
   "source": [
    "## Django 프로젝트를 시작할 때 app을 설치해야 하는 이유는?\n",
    "1. 모듈성 - Django는 '프로젝트'와 '앱'이라는 구조로 나뉘어 있음. 프로젝트는 전체 웹사이트, 앱은 프로젝트 내의 독립적인 기능 단위를 의미. 앱을 사용하면 기능별로 코드를 분리하여 관리할 수 있음.\n",
    "2. 재사용성 - 잘 설계된 Django 앱은 여러 프로젝트에서 재사용할 수 있음. 예를 들어, 블로그 기능을 구현한 앱은 다른 프로젝트에서도 사용할 수 있음.\n",
    "3. 유지보수성 - 코드를 논리적인 단위로 분리하면 유지보수가 용아함. 특정 기능에 문제가 생겼을 때 해당 앱만 수정하면 됨.\n",
    "4. Django의 설계 철학 - Django는 \"DRY(Don't Repeat Yourself)\" 원칙을 중요시함. 앱 구조를 통해 코드 중복을 줄이고 효율적인 개발이 가능.\n",
    "5. 확장성 - 프로젝트가 커질수록 모든 기능을 하나의 코드베이스에 넣는 것은 비효율적. 앱을 통해 기능별로 분리하면 확장성이 향상됨.\n",
    "\n",
    "예를 들어, 쇼핑몰 웹사이트를 만든다면 '상품 관리', '장바구니', '사용자 계정', '결제' 등의 기능을 각각 별도의 앱으로 구현할 수 있습니다. 각 앱은 자체적인 모델, 뷰, URL 패턴, 템플릿을 가질 수 있어 코드 관리가 용이해집니다."
   ]
  },
  {
   "cell_type": "markdown",
   "id": "6e8b0248-156a-41d5-a5e4-c3e32d153f9d",
   "metadata": {},
   "source": [
    "## 루트 디렉토리(Route Directory)란?\n",
    "파일 시스템 계층 구조에서 최상위 디렉토리를 의미. 맥락에 따라 두 가지 주요 의미로 사용\n",
    "1) 운영 체제의 루트 디렉토리:\n",
    "- 윈도우에서는 각 드라이브(C:, D: 등)의 최상위 폴더\n",
    "- 리눅스/유닉스 시스템에서는 /로 표시되는 최상위 디렉토리\n",
    "\n",
    "\n",
    "2) 프로젝트의 루트 디렉토리:\n",
    "- 특정 프로젝트나 애플리케이션의 최상위 폴더\n",
    "- 모든 프로젝트 파일과 하위 디렉토리가 포함됨\n",
    "- 프로젝트 실행, 구성, 관리의 기준점이 됨\n",
    "  \n",
    "Django 맥락에서 프로젝트 루트 디렉토리는 manage.py 파일이 위치한 디렉토리를 의미. 이 디렉토리는:\n",
    "\n",
    "- 프로젝트 관련 명령을 실행하는 위치\n",
    "- Django 프로젝트의 모든 주요 구성 요소를 포함하거나 참조\n",
    "- 가상 환경, 설정 파일, 애플리케이션 폴더 등이 위치\n",
    "\n",
    "프로젝트 루트 디렉토리에서 Django 명령어(python manage.py ...)를 실행해야 정상적으로 작동. 다른 디렉토리에서 실행하면 manage.py 파일을 찾을 수 없다는 오류가 발생"
   ]
  },
  {
   "cell_type": "markdown",
   "id": "fb19ab41-6dcc-4582-a1b1-c81b35d38cc2",
   "metadata": {},
   "source": [
    "## MVC 패턴과 MVC 구조\n",
    "\n",
    "1. MVC (Model-View-Controller) 패턴\n",
    "\n",
    "MVC는 애플리케이션을 세 가지 주요 구성 요소로 분리\n",
    "\n",
    "1. **Model (모델)**: \n",
    "   - 데이터와 비즈니스 로직을 관리\n",
    "   - 데이터베이스와의 상호작용을 담당\n",
    "   - 데이터의 유효성 검사, 상태 변경 등의 규칙을 정의\n",
    "\n",
    "2. **View (뷰)**: \n",
    "   - 사용자 인터페이스(UI)를 담당\n",
    "   - 모델의 데이터를 시각적으로 표현\n",
    "   - 사용자에게 정보를 표시하고 입력을 받음\n",
    "\n",
    "3. **Controller (컨트롤러)**: \n",
    "   - 사용자 입력을 처리\n",
    "   - 모델과 뷰 사이의 중재자 역할\n",
    "   - 사용자 요청에 따라 모델을 업데이트하고 적절한 뷰를 선택\n",
    "\n",
    "2. MVT (Model-View-Template) 구조\n",
    "\n",
    "MVT는 Django 프레임워크에서 사용하는 패턴으로, MVC를 약간 변형한 것\n",
    "\n",
    "1. **Model (모델)**:\n",
    "   - MVC의 모델과 동일한 역할\n",
    "   - Django에서는 데이터베이스 테이블을 Python 클래스로 정의\n",
    "\n",
    "2. **View (뷰)**:\n",
    "   - MVC의 컨트롤러와 유사한 역할\n",
    "   - 요청을 받아 처리하고 응답을 반환\n",
    "   - 모델에서 데이터를 가져와 템플릿에 전달\n",
    "\n",
    "3. **Template (템플릿)**:\n",
    "   - MVC의 뷰와 유사한 역할\n",
    "   - HTML 파일에 Django 템플릿 언어를 사용하여 동적 콘텐츠 표현\n",
    "   - 최종 사용자 인터페이스를 렌더링\n",
    "\n",
    "### 주요 차이점\n",
    "\n",
    "- MVT에서 Django의 View는 MVC의 Controller 역할\n",
    "- MVT의 Template은 MVC의 View 역할과 유사\n",
    "- Django에서는 프레임워크 자체가 Controller 역할의 일부를 담당(URL 라우팅 등)\n",
    "\n",
    "두 패턴 모두 분리(Separation of Concerns)를 통해 코드를 구조화하여 개발, 테스트, 유지보수를 용이하게 하는 것이 목표"
   ]
  },
  {
   "cell_type": "code",
   "execution_count": null,
   "id": "36b54616-6da3-4e3d-af1e-0e97d0de0dba",
   "metadata": {},
   "outputs": [],
   "source": []
  }
 ],
 "metadata": {
  "kernelspec": {
   "display_name": "Python 3 (ipykernel)",
   "language": "python",
   "name": "python3"
  },
  "language_info": {
   "codemirror_mode": {
    "name": "ipython",
    "version": 3
   },
   "file_extension": ".py",
   "mimetype": "text/x-python",
   "name": "python",
   "nbconvert_exporter": "python",
   "pygments_lexer": "ipython3",
   "version": "3.13.2"
  }
 },
 "nbformat": 4,
 "nbformat_minor": 5
}
